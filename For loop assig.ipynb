{
 "cells": [
  {
   "cell_type": "raw",
   "id": "55ed34a9-dd32-4d73-abcf-fc864a56f777",
   "metadata": {},
   "source": [
    "For Loop"
   ]
  },
  {
   "cell_type": "raw",
   "id": "4533cf49-0293-489c-b8d1-458c14d4cda7",
   "metadata": {},
   "source": [
    "Basic Level:"
   ]
  },
  {
   "cell_type": "raw",
   "id": "caaadc16-3de5-4c39-8830-c34763ac4741",
   "metadata": {},
   "source": [
    "1. Write a Python program to print the numbers from 1 to 10 using a `for` loop."
   ]
  },
  {
   "cell_type": "code",
   "execution_count": 6,
   "id": "64aae773-5110-41df-a975-59cc37dccebd",
   "metadata": {},
   "outputs": [
    {
     "name": "stdout",
     "output_type": "stream",
     "text": [
      "0\n",
      "1\n",
      "2\n",
      "3\n",
      "4\n",
      "5\n",
      "6\n",
      "7\n",
      "8\n",
      "9\n",
      "10\n"
     ]
    }
   ],
   "source": [
    "for x in range (11):\n",
    "    print(x)"
   ]
  },
  {
   "cell_type": "raw",
   "id": "78560baa-47a3-481d-80f7-556b08db1544",
   "metadata": {},
   "source": [
    "2. Create a program that calculates the sum of all numbers in a list using a `for` loop."
   ]
  },
  {
   "cell_type": "code",
   "execution_count": 9,
   "id": "9e7864a6-fd8d-44fe-9e3f-bfcbb86d33ba",
   "metadata": {},
   "outputs": [
    {
     "name": "stdout",
     "output_type": "stream",
     "text": [
      "Sum of a list is 99\n"
     ]
    }
   ],
   "source": [
    "lst=[1,2,3,4,5,6,7,8,9]\n",
    "for x in lst:\n",
    "    result=result+x\n",
    "print(\"Sum of a list is\",result)"
   ]
  },
  {
   "cell_type": "raw",
   "id": "368dc81e-45fc-40b1-8085-cb12ca1551e7",
   "metadata": {},
   "source": [
    "3. Write a program to print the characters of a string in reverse order using a `for` loop."
   ]
  },
  {
   "cell_type": "code",
   "execution_count": 10,
   "id": "5125e670-e995-414d-bb95-72e1084305b6",
   "metadata": {},
   "outputs": [
    {
     "name": "stdout",
     "output_type": "stream",
     "text": [
      "a\n",
      "z\n",
      "a\n",
      "r\n",
      "i\n",
      "l\n",
      "A\n"
     ]
    }
   ],
   "source": [
    "s=\"Aliraza\"\n",
    "for x in s[::-1]:\n",
    "    print(x)"
   ]
  },
  {
   "cell_type": "raw",
   "id": "2e3e57fe-29ee-4b1a-87e1-f3c0ee274163",
   "metadata": {},
   "source": [
    "4. Develop a program that finds the factorial of a given number using a `for` loop."
   ]
  },
  {
   "cell_type": "code",
   "execution_count": 14,
   "id": "2174698d-7e22-4fc1-bed7-9ff8285d5787",
   "metadata": {},
   "outputs": [
    {
     "name": "stdin",
     "output_type": "stream",
     "text": [
      "Enter a number 5\n"
     ]
    },
    {
     "name": "stdout",
     "output_type": "stream",
     "text": [
      "Factorial of a 5 is 120\n"
     ]
    }
   ],
   "source": [
    "num=int(input(\"Enter a number\"))\n",
    "result=1\n",
    "for x in range(2,num+1):\n",
    "    result=result*x\n",
    "print(f\"Factorial of a {num} is\",result)"
   ]
  },
  {
   "cell_type": "raw",
   "id": "08d68f01-8941-4150-ad91-02989a90d70d",
   "metadata": {},
   "source": [
    "5. Create a program to print the multiplication table of a given number using a `for` loop."
   ]
  },
  {
   "cell_type": "code",
   "execution_count": 21,
   "id": "c9761ddc-2ec4-483d-b06a-94f479de1b21",
   "metadata": {},
   "outputs": [
    {
     "name": "stdin",
     "output_type": "stream",
     "text": [
      "Enter a number for table 5\n"
     ]
    },
    {
     "name": "stdout",
     "output_type": "stream",
     "text": [
      "Table of  5 is [5, 10, 15, 20, 25, 30, 35, 40, 45, 50]\n"
     ]
    }
   ],
   "source": [
    "num=int(input(\"Enter a number for table\"))\n",
    "result=[num*x for x in range(1,11)]\n",
    "print(f\"Table of  {num} is\",result)"
   ]
  },
  {
   "cell_type": "raw",
   "id": "a170bae0-dab6-40d9-9b5e-6f1b0e54ef9d",
   "metadata": {},
   "source": [
    "6. Write a program that counts the number of even and odd numbers in a list using a `for` loop."
   ]
  },
  {
   "cell_type": "code",
   "execution_count": 38,
   "id": "01a5e05d-f700-47bb-8c3c-fe5a7b119fcd",
   "metadata": {},
   "outputs": [
    {
     "name": "stdout",
     "output_type": "stream",
     "text": [
      "5 even numbers and 5 odd nymbers in this list\n"
     ]
    }
   ],
   "source": [
    "lst=[5, 10, 15, 20, 25, 30, 35, 40, 45, 50]\n",
    "res1=0\n",
    "res2=0\n",
    "for x in lst:\n",
    "    if x%2==0:\n",
    "        res1=res1+1\n",
    "    else:\n",
    "        res2=res2+1\n",
    "print(f\"{res1} even numbers and {res2} odd nymbers in this list\")"
   ]
  },
  {
   "cell_type": "raw",
   "id": "c7df8f62-dd37-425b-9208-64b017630aa6",
   "metadata": {},
   "source": [
    "7. Develop a program that prints the squares of numbers from 1 to 5 using a `for` loop."
   ]
  },
  {
   "cell_type": "code",
   "execution_count": 43,
   "id": "cacc801e-430d-4453-9694-21097cd99bae",
   "metadata": {},
   "outputs": [
    {
     "name": "stdout",
     "output_type": "stream",
     "text": [
      "[1, 4, 9, 16, 25]\n"
     ]
    }
   ],
   "source": [
    "lst=list(x**2 for x in range(1,6))\n",
    "print(lst)"
   ]
  },
  {
   "cell_type": "raw",
   "id": "69dd05dc-a33a-4f9e-80dc-c084076b0e7e",
   "metadata": {},
   "source": [
    "8. Create a program to find the length of a string without using the `len()` function."
   ]
  },
  {
   "cell_type": "code",
   "execution_count": 3,
   "id": "321d976d-aa36-4f5e-ac36-ed7d5afe2a56",
   "metadata": {},
   "outputs": [
    {
     "name": "stdout",
     "output_type": "stream",
     "text": [
      "length of the list is  5\n"
     ]
    }
   ],
   "source": [
    "lst=[1, 4, 9, 16, 25]\n",
    "count=0\n",
    "for x in lst:\n",
    "    count+=1\n",
    "print(\"length of the list is \",count)"
   ]
  },
  {
   "cell_type": "raw",
   "id": "a5ee750c-5af1-4950-ae22-f7f43fc4f834",
   "metadata": {},
   "source": [
    "9. Write a program that calculates the average of a list of numbers using a `for` loop."
   ]
  },
  {
   "cell_type": "code",
   "execution_count": 6,
   "id": "64faf3e5-b054-44b8-89c6-28dfac39118b",
   "metadata": {},
   "outputs": [
    {
     "name": "stdout",
     "output_type": "stream",
     "text": [
      "11.0\n"
     ]
    }
   ],
   "source": [
    "lst=[1, 4, 9, 16, 25]\n",
    "sum_of_lst=0\n",
    "for x in lst:\n",
    "    sum_of_lst=sum_of_lst+x\n",
    "print(sum_of_lst/len(lst))"
   ]
  },
  {
   "cell_type": "raw",
   "id": "fd409987-470c-4c1b-bd45-80f8cac8b641",
   "metadata": {},
   "source": [
    "10. Develop a program that prints the first `n` Fibonacci numbers using a `for` loop."
   ]
  },
  {
   "cell_type": "code",
   "execution_count": 9,
   "id": "ec0fbba7-fc73-430e-9f54-c525840ef711",
   "metadata": {},
   "outputs": [
    {
     "name": "stdout",
     "output_type": "stream",
     "text": [
      "Fibonacci sequence up to 10 :\n",
      "0, 1, 1, 2, 3, 5, 8, 13, 21, 34\n"
     ]
    }
   ],
   "source": [
    "n=10\n",
    "if n <= 0:\n",
    "    print(\"The number of terms should be a positive integer.\")\n",
    "elif n == 1:\n",
    "    print(\"Fibonacci sequence up to\", n, \":\")\n",
    "    print(0)\n",
    "else:\n",
    "    print(\"Fibonacci sequence up to\", n, \":\")\n",
    "    a, b = 0, 1\n",
    "    print(a, end=\", \")\n",
    "    for i in range(1, n):\n",
    "        print(b, end=\", \" if i < n-1 else \"\\n\")\n",
    "        a, b = b, a + b\n",
    "\n"
   ]
  },
  {
   "cell_type": "code",
   "execution_count": null,
   "id": "0838a799-4e03-4618-a15a-af2f61cdf532",
   "metadata": {},
   "outputs": [],
   "source": []
  },
  {
   "cell_type": "code",
   "execution_count": null,
   "id": "31fcba3a-50e9-41ab-88f6-d1a1f19b51a9",
   "metadata": {},
   "outputs": [],
   "source": [
    "Intermediate Level:"
   ]
  },
  {
   "cell_type": "code",
   "execution_count": null,
   "id": "aa41f2d9-e43e-497d-b29e-aeb8743494d9",
   "metadata": {},
   "outputs": [],
   "source": []
  },
  {
   "cell_type": "raw",
   "id": "f08a887c-9050-4801-b99d-599bc84eab7c",
   "metadata": {},
   "source": [
    "11. Write a program to check if a given list contains any duplicates using a `for` loop."
   ]
  },
  {
   "cell_type": "code",
   "execution_count": 11,
   "id": "d38b0c36-5eee-481a-aa78-459256d19fc4",
   "metadata": {},
   "outputs": [
    {
     "name": "stdout",
     "output_type": "stream",
     "text": [
      "these elements are duplicate in this list {3}\n"
     ]
    }
   ],
   "source": [
    "lst= [1, 2, 3, 4, 5, 6, 3]\n",
    "seen=set()\n",
    "duplicate= set()\n",
    "for x in lst:\n",
    "    if x  in seen:\n",
    "        duplicate.add(x)\n",
    "    else:\n",
    "        seen.add(x)\n",
    "if duplicate==0:\n",
    "    print(\" elements are not duplicate in this list\")\n",
    "else:\n",
    "    print(\"these elements are duplicate in this list\",duplicate)\n",
    "\n",
    "    \n"
   ]
  },
  {
   "cell_type": "raw",
   "id": "7412c7eb-bdc9-4255-bca4-21588cbc561f",
   "metadata": {},
   "source": [
    "12. Create a program that prints the prime numbers in a given range using a `for` loop."
   ]
  },
  {
   "cell_type": "code",
   "execution_count": 26,
   "id": "a7c91696-b85d-4c74-90dc-8852cfbe0525",
   "metadata": {},
   "outputs": [
    {
     "name": "stdout",
     "output_type": "stream",
     "text": [
      "Prime numbers between 10 and 50 are:\n",
      "11 13 17 19 23 29 31 37 41 43 47 \n"
     ]
    }
   ],
   "source": [
    "\n",
    "def is_prime(num):\n",
    "    if num <= 1:\n",
    "        return False\n",
    "    for i in range(2, int(num**0.5) + 1):\n",
    "        if num % i == 0:\n",
    "            return False\n",
    "    return True\n",
    "\n",
    "def print_primes(start, end):\n",
    "    print(f\"Prime numbers between {start} and {end} are:\")\n",
    "    for num in range(start, end + 1):\n",
    "        if is_prime(num):\n",
    "            print(num, end=\" \")\n",
    "    print()  # For a new line at the end\n",
    "\n",
    "# Example usage\n",
    "start_range = 10\n",
    "end_range = 50\n",
    "print_primes(start_range, end_range)\n"
   ]
  },
  {
   "cell_type": "raw",
   "id": "f496f1a5-1382-4675-a332-cbf4f1a6a944",
   "metadata": {},
   "source": [
    "13. Develop a program that counts the number of vowels in a string using a `for` loop.             "
   ]
  },
  {
   "cell_type": "code",
   "execution_count": 41,
   "id": "9dbf2e04-948b-4aff-898e-62728a556459",
   "metadata": {},
   "outputs": [
    {
     "name": "stdin",
     "output_type": "stream",
     "text": [
      "Enter a strin to count vowels Aliraza\n"
     ]
    },
    {
     "name": "stdout",
     "output_type": "stream",
     "text": [
      "4  vowels in this string\n"
     ]
    }
   ],
   "source": [
    "vowels=('a','e','i','o','u','A','E','I','O','U')\n",
    "count=0\n",
    "s=str(input(\"Enter a strin to count vowels\"))\n",
    "for x in s:\n",
    "    if x in vowels:\n",
    "        count=count+1\n",
    "print(count,\" vowels in this string\")"
   ]
  },
  {
   "cell_type": "raw",
   "id": "16f35db3-8f8e-4f4c-ae67-346651657b13",
   "metadata": {},
   "source": [
    "15. Create a program that removes all occurrences of a specific element from a list using a `for` loop."
   ]
  },
  {
   "cell_type": "code",
   "execution_count": 3,
   "id": "fc49ce0f-13bf-47ab-b93a-f305c113fb1c",
   "metadata": {},
   "outputs": [
    {
     "name": "stdout",
     "output_type": "stream",
     "text": [
      "list after removing specific element 3 is [1, 2, 4, 5, 6, 1, 2, 4, 5, 6]\n"
     ]
    }
   ],
   "source": [
    "lst= [1, 2, 3, 4, 5, 6, 3,1, 2, 3, 4, 5, 6, 3]\n",
    "specific_element= 3\n",
    "for x in lst:\n",
    "    if x==specific_element:\n",
    "        lst.remove(specific_element)\n",
    "print(f\"list after removing specific element {specific_element} is\",lst)"
   ]
  },
  {
   "cell_type": "raw",
   "id": "f4cddc72-4863-4fd0-85ed-1f657ae2593f",
   "metadata": {},
   "source": [
    "16. Develop a program that generates a multiplication table for numbers from 1 to 5 using a nested `for` loop."
   ]
  },
  {
   "cell_type": "code",
   "execution_count": 11,
   "id": "4565d03d-eacf-4953-aba9-8604abe5901c",
   "metadata": {},
   "outputs": [
    {
     "name": "stdout",
     "output_type": "stream",
     "text": [
      "1 2 3 4 5 6 7 8 9 10 \n",
      "\n",
      "2 4 6 8 10 12 14 16 18 20 \n",
      "\n",
      "3 6 9 12 15 18 21 24 27 30 \n",
      "\n",
      "4 8 12 16 20 24 28 32 36 40 \n",
      "\n",
      "5 10 15 20 25 30 35 40 45 50 \n",
      "\n"
     ]
    }
   ],
   "source": [
    "lst=[]\n",
    "for x in range(1,6):\n",
    "    for i in range(1,11):\n",
    "        print(x*i,end=' ')\n",
    "    print('\\n')\n"
   ]
  },
  {
   "cell_type": "raw",
   "id": "dcfdbb47-afd3-409f-b8f2-f50799726ccb",
   "metadata": {},
   "source": [
    "17. Write a program that converts a list of Fahrenheit temperatures to Celsius using a `for` loop."
   ]
  },
  {
   "cell_type": "code",
   "execution_count": 13,
   "id": "273bc157-463e-458c-91a1-ae54496b6853",
   "metadata": {},
   "outputs": [
    {
     "name": "stdout",
     "output_type": "stream",
     "text": [
      "[0.0, 20.0, 32.22222222222222, 40.0, 100.0]\n"
     ]
    }
   ],
   "source": [
    "fah_tem= [32, 68, 90, 104, 212]\n",
    "cel_temp=[]\n",
    "for temp in fah_tem:\n",
    "    cel_temp.append((temp - 32) * 5.0 / 9.0)\n",
    "print(cel_temp)"
   ]
  },
  {
   "cell_type": "raw",
   "id": "5d845ef9-94b8-484b-874d-475a619309e3",
   "metadata": {},
   "source": [
    "18. Create a program to print the common elements from two lists using a `for` loop."
   ]
  },
  {
   "cell_type": "code",
   "execution_count": 14,
   "id": "acefceaa-6328-4c0d-82b5-8cb4d1c3fa6c",
   "metadata": {},
   "outputs": [
    {
     "name": "stdout",
     "output_type": "stream",
     "text": [
      "these elements are common in lists [1, 6, 7, 8]\n"
     ]
    }
   ],
   "source": [
    "lst1=[1,2,3,4,5,6,7,8]\n",
    "lst2=[9,7,88,8,6,44,32,1,11]\n",
    "lst3=[]\n",
    "for x in lst1:\n",
    "    if x in lst2:\n",
    "        lst3.append(x)\n",
    "print(\"these elements are common in lists\",lst3)"
   ]
  },
  {
   "cell_type": "raw",
   "id": "93246424-3af9-422d-8448-63c86704cf35",
   "metadata": {},
   "source": [
    "19. Develop a program that prints the pattern of right-angled triangles using a `for` loop. Use ‘*’ to draw the\n",
    "pattern"
   ]
  },
  {
   "cell_type": "code",
   "execution_count": 25,
   "id": "f7890dd3-96f5-4119-bce4-2ec1c2f66521",
   "metadata": {},
   "outputs": [
    {
     "name": "stdout",
     "output_type": "stream",
     "text": [
      "\n",
      "*\n",
      "**\n",
      "***\n",
      "****\n",
      "*****\n",
      "******\n"
     ]
    }
   ],
   "source": [
    "for x in range(7):\n",
    "    print(\"*\"*x)"
   ]
  },
  {
   "cell_type": "raw",
   "id": "b2c095a1-056f-472e-857c-c422e5b00912",
   "metadata": {},
   "source": [
    "20. Write a program to find the greatest common divisor (GCD) of two numbers using a `for` loop."
   ]
  },
  {
   "cell_type": "code",
   "execution_count": 31,
   "id": "8d357e60-25c9-488f-a0c0-c0b13411970c",
   "metadata": {},
   "outputs": [
    {
     "name": "stdout",
     "output_type": "stream",
     "text": [
      "greatest common divisor (GCD) of two numbers is  6\n"
     ]
    }
   ],
   "source": [
    "first_num=48\n",
    "sec_num=18\n",
    "lst=[]\n",
    "for i in range(1,min(first_num,sec_num)):\n",
    "    if first_num%i==0 and sec_num%i==0:\n",
    "        lst.append(i)\n",
    "print(\"greatest common divisor (GCD) of two numbers is \",lst[-1])"
   ]
  },
  {
   "cell_type": "code",
   "execution_count": null,
   "id": "ad1cf909-6c9c-4ac6-989e-3c04119d412c",
   "metadata": {},
   "outputs": [],
   "source": []
  },
  {
   "cell_type": "raw",
   "id": "e58ca307-c150-4baa-96b9-b1ed3446a7ac",
   "metadata": {},
   "source": [
    "Advanced Level:"
   ]
  },
  {
   "cell_type": "code",
   "execution_count": null,
   "id": "cd6734bd-6569-4f43-b447-e9e4d4250010",
   "metadata": {},
   "outputs": [],
   "source": []
  },
  {
   "cell_type": "raw",
   "id": "5910a8e4-7ae3-4d6d-b966-2b9d3146456b",
   "metadata": {},
   "source": [
    "21. Create a program that calculates the sum of the digits of numbers in a list using a list comprehension."
   ]
  },
  {
   "cell_type": "code",
   "execution_count": 34,
   "id": "538c4326-81e9-4394-b3ec-2a45ac406479",
   "metadata": {},
   "outputs": [
    {
     "name": "stdout",
     "output_type": "stream",
     "text": [
      "15\n"
     ]
    }
   ],
   "source": [
    "numbers = [1, 4, 9, 1]\n",
    "result=sum(int(x) for x in numbers)\n",
    "print(result)"
   ]
  },
  {
   "cell_type": "raw",
   "id": "9911e792-319f-4f92-b12d-1bdf7e572151",
   "metadata": {},
   "source": [
    "22. Write a program to find the prime factors of a given number using a `for` loop and list comprehension."
   ]
  },
  {
   "cell_type": "code",
   "execution_count": 3,
   "id": "902ac34f-744f-40da-8bf4-a69bef0cc25c",
   "metadata": {},
   "outputs": [
    {
     "name": "stdin",
     "output_type": "stream",
     "text": [
      "Enter number to find prime factor 56\n"
     ]
    },
    {
     "name": "stdout",
     "output_type": "stream",
     "text": [
      "[2, 2, 2, 7]\n"
     ]
    }
   ],
   "source": [
    "factors = []\n",
    "n=int(input(\"Enter number to find prime factor\"))\n",
    "# Start with the smallest prime number\n",
    "for i in range(2, n + 1):\n",
    "    # Check if i is a factor of n\n",
    "    while n % i == 0:\n",
    "        factors.append(i)\n",
    "        n //= i\n",
    "print(factors)"
   ]
  },
  {
   "cell_type": "raw",
   "id": "53bf9449-456a-49cb-bd26-aea4667562c1",
   "metadata": {},
   "source": [
    "23. Develop a program that extracts unique elements from a list and stores them in a new list using a list\n",
    "comprehension."
   ]
  },
  {
   "cell_type": "code",
   "execution_count": 4,
   "id": "12d18ac0-2c4b-48f5-b677-c5a2101b543d",
   "metadata": {},
   "outputs": [
    {
     "name": "stdout",
     "output_type": "stream",
     "text": [
      "[1, 2, 3, 4, 5, 6, 7]\n"
     ]
    }
   ],
   "source": [
    "input_list = [1, 2, 2, 3, 4, 4, 5, 6, 6, 7]\n",
    "seen = set()\n",
    "# Use list comprehension to add unique elements to the new list\n",
    "unique_elements = [x for x in input_list if x not in seen and not seen.add(x)]\n",
    "print(unique_elements)"
   ]
  },
  {
   "cell_type": "raw",
   "id": "b697a62d-b860-46c2-a536-82e938825850",
   "metadata": {},
   "source": [
    "24. Create a program that generates a list of all palindromic numbers up to a specified limit using a list\n",
    "comprehension."
   ]
  },
  {
   "cell_type": "code",
   "execution_count": 5,
   "id": "2b8605e5-a640-4167-b7a4-84e3a2f43dba",
   "metadata": {},
   "outputs": [
    {
     "name": "stdout",
     "output_type": "stream",
     "text": [
      "[1, 2, 3, 4, 5, 6, 7, 8, 9, 11, 22, 33, 44, 55, 66, 77, 88, 99, 101, 111, 121, 131, 141, 151, 161, 171, 181, 191]\n"
     ]
    }
   ],
   "source": [
    "limit = 200\n",
    "palindromic_list =  [num for num in range(1, limit + 1) if str(num) == str(num)[::-1]]\n",
    "print(palindromic_list)"
   ]
  },
  {
   "cell_type": "raw",
   "id": "33b7fb9c-f696-41df-8524-3ae26ba8a324",
   "metadata": {},
   "source": [
    "25. Write a program to flatten a nested list using list comprehension."
   ]
  },
  {
   "cell_type": "code",
   "execution_count": 6,
   "id": "72675505-a7ec-48c6-a0ce-b2ca9894c252",
   "metadata": {},
   "outputs": [
    {
     "name": "stdout",
     "output_type": "stream",
     "text": [
      "[1, 2, 3, 4, 5, 6, 7, 8, 9]\n"
     ]
    }
   ],
   "source": [
    "nested_list = [[1, 2, 3], [4, 5], [6, 7, 8, 9]]\n",
    "flattened_list =[item for sublist in nested_list for item in sublist]\n",
    "print(flattened_list)"
   ]
  },
  {
   "cell_type": "raw",
   "id": "60ad61d8-87ff-472b-8047-08ef8c57de81",
   "metadata": {},
   "source": [
    "26. Develop a program that computes the sum of even and odd numbers in a list separately using list\n",
    "comprehension."
   ]
  },
  {
   "cell_type": "code",
   "execution_count": 7,
   "id": "bf63465f-7626-4ba6-b10c-b3d3e3822693",
   "metadata": {},
   "outputs": [
    {
     "name": "stdout",
     "output_type": "stream",
     "text": [
      "Sum of even numbers: 30\n",
      "Sum of odd numbers: 25\n"
     ]
    }
   ],
   "source": [
    "numbers = [1, 2, 3, 4, 5, 6, 7, 8, 9, 10]\n",
    "even_sum = sum([num for num in numbers if num % 2 == 0])\n",
    "odd_sum = sum([num for num in numbers if num % 2 != 0])\n",
    "print(f\"Sum of even numbers: {even_sum}\")\n",
    "print(f\"Sum of odd numbers: {odd_sum}\")"
   ]
  },
  {
   "cell_type": "raw",
   "id": "1469c924-dda9-404f-9230-96a139d9d294",
   "metadata": {},
   "source": [
    "27. Create a program that generates a list of squares of odd numbers between 1 and 10 using list\n",
    "comprehension."
   ]
  },
  {
   "cell_type": "code",
   "execution_count": 8,
   "id": "9d7cd26c-86bb-4411-8423-2dbbca443ff5",
   "metadata": {},
   "outputs": [
    {
     "name": "stdout",
     "output_type": "stream",
     "text": [
      "[1, 9, 25, 49, 81]\n"
     ]
    }
   ],
   "source": [
    "lst_of_squares=[x**2 for x in range(1,11) if x%2!=0]\n",
    "print(lst_of_squares)"
   ]
  },
  {
   "cell_type": "raw",
   "id": "a964990a-2716-4cc5-bad9-57d1484dbd94",
   "metadata": {},
   "source": [
    "28. Write a program that combines two lists into a dictionary using list comprehension."
   ]
  },
  {
   "cell_type": "code",
   "execution_count": 9,
   "id": "370a6bed-470f-45ad-8f22-fc9fa9da405a",
   "metadata": {},
   "outputs": [
    {
     "name": "stdout",
     "output_type": "stream",
     "text": [
      "Combined dictionary: {'a': 1, 'b': 2, 'c': 3, 'd': 4}\n"
     ]
    }
   ],
   "source": [
    "keys = ['a', 'b', 'c', 'd']\n",
    "values = [1, 2, 3, 4]\n",
    "combined_dict ={keys[i]: values[i] for i in range(len(keys))}\n",
    "print(f\"Combined dictionary: {combined_dict}\")"
   ]
  },
  {
   "cell_type": "raw",
   "id": "1772d70c-f5aa-4a3b-b362-f0a42118733a",
   "metadata": {},
   "source": [
    "29. Develop a program that extracts the vowels from a string and stores them in a list using list comprehension."
   ]
  },
  {
   "cell_type": "code",
   "execution_count": 11,
   "id": "f63c34cf-b037-4dad-afec-049a8414cd78",
   "metadata": {},
   "outputs": [
    {
     "name": "stdout",
     "output_type": "stream",
     "text": [
      "Extracted vowels: ['e', 'o', 'o']\n"
     ]
    }
   ],
   "source": [
    "input_string = \"Hello, World!\"\n",
    "vowels = 'aeiouAEIOU'\n",
    "vowel_list = [ x for x in input_string if x in vowels]\n",
    "print(f\"Extracted vowels: {vowel_list}\")"
   ]
  },
  {
   "cell_type": "raw",
   "id": "487167b8-fb23-4a84-8c63-fb1f6bc74ec9",
   "metadata": {},
   "source": [
    "30. Create a program that removes all non-numeric characters from a list of strings using list comprehension."
   ]
  },
  {
   "cell_type": "code",
   "execution_count": 13,
   "id": "dec3f1fd-b850-40e9-851e-9cacbb7637cb",
   "metadata": {},
   "outputs": [
    {
     "name": "stdout",
     "output_type": "stream",
     "text": [
      "Numeric strings: ['123', '456', '7890', '0']\n"
     ]
    }
   ],
   "source": [
    "strings = [\"abc123\", \"456def\", \"78!@#90\", \"0xyz\"]\n",
    "numeric_strings = [''.join([char for char in string if char.isdigit()]) for string in strings]\n",
    "print(f\"Numeric strings: {numeric_strings}\")"
   ]
  },
  {
   "cell_type": "code",
   "execution_count": null,
   "id": "522dfcb2-0de6-49be-997d-1f9807cd608e",
   "metadata": {},
   "outputs": [],
   "source": []
  },
  {
   "cell_type": "raw",
   "id": "eb425229-9126-4403-84e4-bf12fc0606ae",
   "metadata": {},
   "source": [
    "Challenge Level:"
   ]
  },
  {
   "cell_type": "code",
   "execution_count": null,
   "id": "70379193-1241-4d4a-b01c-15a361caaa21",
   "metadata": {},
   "outputs": [],
   "source": []
  },
  {
   "cell_type": "raw",
   "id": "6c5de2db-8990-4950-87bc-1171c68dbd7f",
   "metadata": {},
   "source": [
    "31. Write a program to generate a list of prime numbers using the Sieve of Eratosthenes algorithm and list\n",
    "comprehension."
   ]
  },
  {
   "cell_type": "code",
   "execution_count": 14,
   "id": "7a404710-c496-47e5-a182-879e74a571c8",
   "metadata": {},
   "outputs": [
    {
     "name": "stdout",
     "output_type": "stream",
     "text": [
      "Prime numbers up to 50: [2, 3, 5, 7, 11, 13, 17, 19, 23, 29, 31, 37, 41, 43, 47]\n"
     ]
    }
   ],
   "source": [
    "def sieve_of_eratosthenes(limit):\n",
    "    # Initialize a list of boolean values\n",
    "    is_prime = [True] * (limit + 1)\n",
    "    p = 2\n",
    "    while (p * p <= limit):\n",
    "        # If is_prime[p] is not changed, then it is a prime\n",
    "        if is_prime[p] == True:\n",
    "            # Updating all multiples of p to False\n",
    "            for i in range(p * p, limit + 1, p):\n",
    "                is_prime[i] = False\n",
    "        p += 1\n",
    "    # Collecting all prime numbers using list comprehension\n",
    "    prime_numbers = [p for p in range(2, limit + 1) if is_prime[p]]\n",
    "    return prime_numbers\n",
    "\n",
    "# Example usage\n",
    "limit = 50\n",
    "prime_numbers = sieve_of_eratosthenes(limit)\n",
    "print(f\"Prime numbers up to {limit}: {prime_numbers}\")\n"
   ]
  },
  {
   "cell_type": "code",
   "execution_count": 17,
   "id": "7a21a8cd-5fe3-48f1-b035-81a0bd1a6e4d",
   "metadata": {},
   "outputs": [
    {
     "name": "stdout",
     "output_type": "stream",
     "text": [
      "Pythagorean triplets up to 30: [(3, 4, 5), (5, 12, 13), (6, 8, 10), (7, 24, 25), (8, 15, 17), (9, 12, 15), (10, 24, 26), (12, 16, 20), (15, 20, 25), (18, 24, 30), (20, 21, 29)]\n"
     ]
    }
   ],
   "source": [
    "limit = 30\n",
    "triplets = [\n",
    "        (a, b, c)\n",
    "        for a in range(1, limit + 1)\n",
    "        for b in range(a, limit + 1)\n",
    "        for c in range(b, limit + 1)\n",
    "        if a * a + b * b == c * c]\n",
    "print(f\"Pythagorean triplets up to {limit}: {triplets}\")\n"
   ]
  },
  {
   "cell_type": "raw",
   "id": "9960713f-951a-4281-9158-4f82896d630a",
   "metadata": {},
   "source": [
    "33. Develop a program that generates a list of all possible combinations of two lists using list comprehension."
   ]
  },
  {
   "cell_type": "code",
   "execution_count": 18,
   "id": "dc81b3b0-1b44-4c1e-9c81-a670bc445bae",
   "metadata": {},
   "outputs": [
    {
     "name": "stdout",
     "output_type": "stream",
     "text": [
      "All combinations: [(1, 'a'), (1, 'b'), (1, 'c'), (2, 'a'), (2, 'b'), (2, 'c'), (3, 'a'), (3, 'b'), (3, 'c')]\n"
     ]
    }
   ],
   "source": [
    "list1 = [1, 2, 3]\n",
    "list2 = ['a', 'b', 'c']\n",
    "combinations =[(a, b) for a in list1 for b in list2]\n",
    "print(f\"All combinations: {combinations}\")"
   ]
  },
  {
   "cell_type": "raw",
   "id": "e58c7907-bbc6-4081-af07-6d5cbb5b2445",
   "metadata": {},
   "source": [
    "34. Write a program that calculates the mean, median, and mode of a list of numbers using list\n",
    "comprehension."
   ]
  },
  {
   "cell_type": "code",
   "execution_count": 19,
   "id": "d180c8e7-6649-49be-a810-8d70aab6ea77",
   "metadata": {},
   "outputs": [
    {
     "name": "stdout",
     "output_type": "stream",
     "text": [
      "Mean: 3.3333333333333335\n",
      "Median: 4\n",
      "Mode: [4]\n"
     ]
    }
   ],
   "source": [
    "from collections import Counter\n",
    "\n",
    "def calculate_mean(numbers):\n",
    "    return sum(numbers) / len(numbers)\n",
    "\n",
    "def calculate_median(numbers):\n",
    "    sorted_numbers = sorted(numbers)\n",
    "    n = len(sorted_numbers)\n",
    "    middle = n // 2\n",
    "    if n % 2 == 0:\n",
    "        return (sorted_numbers[middle - 1] + sorted_numbers[middle]) / 2\n",
    "    else:\n",
    "        return sorted_numbers[middle]\n",
    "\n",
    "def calculate_mode(numbers):\n",
    "    count = Counter(numbers)\n",
    "    max_count = max(count.values())\n",
    "    mode = [num for num, freq in count.items() if freq == max_count]\n",
    "    if len(mode) == len(numbers):\n",
    "        return \"No mode\"\n",
    "    return mode\n",
    "\n",
    "# Example usage\n",
    "numbers = [1, 2, 2, 3, 4, 4, 4, 5, 5]\n",
    "\n",
    "mean = calculate_mean(numbers)\n",
    "median = calculate_median(numbers)\n",
    "mode = calculate_mode(numbers)\n",
    "\n",
    "print(f\"Mean: {mean}\")\n",
    "print(f\"Median: {median}\")\n",
    "print(f\"Mode: {mode}\")\n"
   ]
  },
  {
   "cell_type": "raw",
   "id": "50bea408-3f30-4efe-a472-dc393ff420f8",
   "metadata": {},
   "source": [
    "35. Create a program that generates Pascal's triangle up to a specified number of rows using list\n",
    "comprehension."
   ]
  },
  {
   "cell_type": "code",
   "execution_count": 20,
   "id": "9f93b75e-8dc6-4454-9f8f-799d5120afb3",
   "metadata": {},
   "outputs": [
    {
     "name": "stdout",
     "output_type": "stream",
     "text": [
      "[1]\n",
      "[1, 1]\n",
      "[1, 2, 1]\n",
      "[1, 3, 3, 1]\n",
      "[1, 4, 6, 4, 1]\n"
     ]
    }
   ],
   "source": [
    "def generate_pascals_triangle(n):\n",
    "    # Initialize the triangle with the first row\n",
    "    triangle = [[1]]\n",
    "    # Generate each row\n",
    "    for i in range(1, n):\n",
    "        row = [1] + [triangle[i-1][j-1] + triangle[i-1][j] for j in range(1, i)] + [1]\n",
    "        triangle.append(row)\n",
    "    return triangle\n",
    "\n",
    "# Example usage\n",
    "num_rows = 5\n",
    "pascals_triangle = generate_pascals_triangle(num_rows)\n",
    "for row in pascals_triangle:\n",
    "    print(row)\n"
   ]
  },
  {
   "cell_type": "raw",
   "id": "67d1f42f-4e32-4033-b637-ff2219b2bd83",
   "metadata": {},
   "source": [
    "36. Develop a program that calculates the sum of the digits of a factorial of numbers from 1 to 5 using list\n",
    "comprehension."
   ]
  },
  {
   "cell_type": "code",
   "execution_count": 21,
   "id": "86a0b589-e7aa-47c9-91eb-e1b1c1b4296f",
   "metadata": {},
   "outputs": [
    {
     "name": "stdout",
     "output_type": "stream",
     "text": [
      "Sum of the digits of 1! is: 1\n",
      "Sum of the digits of 2! is: 2\n",
      "Sum of the digits of 3! is: 6\n",
      "Sum of the digits of 4! is: 6\n",
      "Sum of the digits of 5! is: 3\n"
     ]
    }
   ],
   "source": [
    "import math\n",
    "\n",
    "def sum_of_digits(n):\n",
    "    # Calculate the factorial of the number\n",
    "    factorial = math.factorial(n)\n",
    "    # Calculate the sum of the digits of the factorial\n",
    "    return sum(int(digit) for digit in str(factorial))\n",
    "\n",
    "# Use list comprehension to calculate the sum of the digits of factorials for numbers from 1 to 5\n",
    "results = [(n, sum_of_digits(n)) for n in range(1, 6)]\n",
    "\n",
    "# Print the results\n",
    "for n, digit_sum in results:\n",
    "    print(f\"Sum of the digits of {n}! is: {digit_sum}\")\n"
   ]
  },
  {
   "cell_type": "raw",
   "id": "e5b19d21-f453-4fa8-8d6a-715fccde1d53",
   "metadata": {},
   "source": [
    "37. Write a program that finds the longest word in a sentence using list comprehension."
   ]
  },
  {
   "cell_type": "code",
   "execution_count": 22,
   "id": "ce6fbc94-a1ca-46ee-a94d-5c1a48498d1e",
   "metadata": {},
   "outputs": [
    {
     "name": "stdout",
     "output_type": "stream",
     "text": [
      "The longest word in the sentence is: sentence\n"
     ]
    }
   ],
   "source": [
    "def find_longest_word(sentence):\n",
    "    # Split the sentence into words\n",
    "    words = sentence.split()\n",
    "    # Use list comprehension to find the longest word\n",
    "    longest_word = max(words, key=len)\n",
    "    return longest_word\n",
    "\n",
    "# Example usage\n",
    "sentence = \"This is a sample sentence to find the longest word\"\n",
    "longest_word = find_longest_word(sentence)\n",
    "print(f\"The longest word in the sentence is: {longest_word}\")\n"
   ]
  },
  {
   "cell_type": "raw",
   "id": "1c01a2e3-89d3-494f-a179-9ecd2d085b1d",
   "metadata": {},
   "source": [
    "38. Create a program that filters a list of strings to include only those with more than three vowels using list\n",
    "comprehension."
   ]
  },
  {
   "cell_type": "code",
   "execution_count": 24,
   "id": "cbef613f-dda8-4514-9544-9235ebaf5d8e",
   "metadata": {},
   "outputs": [
    {
     "name": "stdout",
     "output_type": "stream",
     "text": [
      "Strings with more than three vowels: ['Aliraza']\n"
     ]
    }
   ],
   "source": [
    "def count_vowels(word):\n",
    "    # Define a set of vowels\n",
    "    vowels = \"aeiouAEIOU\"\n",
    "    # Count the number of vowels in the word\n",
    "    return sum(1 for char in word if char in vowels)\n",
    "\n",
    "def filter_strings_with_more_than_three_vowels(strings):\n",
    "    # Use list comprehension to filter strings with more than three vowels\n",
    "    return [string for string in strings if count_vowels(string) > 3]\n",
    "\n",
    "# Example usage\n",
    "strings = [\"hello\", \"world\", \"example\", \"programming\", \"Python\",\"Aliraza\"]\n",
    "filtered_strings = filter_strings_with_more_than_three_vowels(strings)\n",
    "print(f\"Strings with more than three vowels: {filtered_strings}\")\n"
   ]
  },
  {
   "cell_type": "raw",
   "id": "61e2a99f-76ca-43db-b5a9-99c65e9d054a",
   "metadata": {},
   "source": [
    "39. Develop a program that calculates the sum of the digits of numbers from 1 to 1000 using list\n",
    "comprehension."
   ]
  },
  {
   "cell_type": "code",
   "execution_count": 25,
   "id": "eb8cb6e4-af8a-440f-92e0-a891a3f3fb10",
   "metadata": {},
   "outputs": [
    {
     "name": "stdout",
     "output_type": "stream",
     "text": [
      "Sum of digits from 1 to 1000: 13501\n"
     ]
    }
   ],
   "source": [
    "def sum_of_digits(n):\n",
    "    return sum(int(digit) for digit in str(n))\n",
    "\n",
    "# Calculate the sum of the digits for numbers from 1 to 1000\n",
    "sum_of_digits_list = [sum_of_digits(num) for num in range(1, 1001)]\n",
    "\n",
    "# Calculate the total sum\n",
    "total_sum = sum(sum_of_digits_list)\n",
    "\n",
    "print(f\"Sum of digits from 1 to 1000: {total_sum}\")\n"
   ]
  },
  {
   "cell_type": "raw",
   "id": "055642ed-27f4-4ad9-b6b2-139ce94034ec",
   "metadata": {},
   "source": [
    "40. Write a program that generates a list of prime palindromic numbers using list comprehension."
   ]
  },
  {
   "cell_type": "code",
   "execution_count": 26,
   "id": "7b002d8a-8ad1-416d-9643-6703f47ae9ad",
   "metadata": {},
   "outputs": [
    {
     "name": "stdout",
     "output_type": "stream",
     "text": [
      "Prime palindromic numbers:\n",
      "[2, 3, 5, 7, 11, 101, 131, 151, 181, 191, 313, 353, 373, 383, 727, 757, 787, 797, 919, 929]\n"
     ]
    }
   ],
   "source": [
    "def is_prime(num):\n",
    "    if num < 2:\n",
    "        return False\n",
    "    for i in range(2, int(num**0.5) + 1):\n",
    "        if num % i == 0:\n",
    "            return False\n",
    "    return True\n",
    "\n",
    "def is_palindrome(num):\n",
    "    return str(num) == str(num)[::-1]\n",
    "\n",
    "# Generate a list of prime palindromic numbers using list comprehension\n",
    "prime_palindromes = [num for num in range(2, 1000) if is_prime(num) and is_palindrome(num)]\n",
    "\n",
    "# Print the list of prime palindromic numbers\n",
    "print(\"Prime palindromic numbers:\")\n",
    "print(prime_palindromes)\n"
   ]
  },
  {
   "cell_type": "code",
   "execution_count": null,
   "id": "1f17ba3b-9204-41e1-a19a-34fb1b9c2569",
   "metadata": {},
   "outputs": [],
   "source": []
  }
 ],
 "metadata": {
  "kernelspec": {
   "display_name": "Python 3 (ipykernel)",
   "language": "python",
   "name": "python3"
  },
  "language_info": {
   "codemirror_mode": {
    "name": "ipython",
    "version": 3
   },
   "file_extension": ".py",
   "mimetype": "text/x-python",
   "name": "python",
   "nbconvert_exporter": "python",
   "pygments_lexer": "ipython3",
   "version": "3.10.8"
  }
 },
 "nbformat": 4,
 "nbformat_minor": 5
}
